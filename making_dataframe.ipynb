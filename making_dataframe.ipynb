{
 "cells": [
  {
   "cell_type": "code",
   "execution_count": 1,
   "metadata": {
    "collapsed": true
   },
   "outputs": [],
   "source": [
    "import pandas as pd"
   ]
  },
  {
   "cell_type": "code",
   "execution_count": 15,
   "metadata": {
    "collapsed": false
   },
   "outputs": [],
   "source": [
    "dict2014_asia = {'Total':12750422,'School Enrollment':{'Pop':2092371,'Nursery':1.9,'Elementary':21.5,'High':14.5,'College':62.1},'Educational Attainment':{'Pop':10982592,'Less_than_HS':15.4,'High':16.6,'Some_college':18.3,'Bachelor':28.0,'Graduate':21.7},'Employment':{'Pop':12064684,'In_labor':63.7,'Civilian':63.6,'Civ_employed':60.1,'Civ_unemployed':3.5,'Armed_force':0.2,'Not_in_labor':36.3},'Occupation':{'Management':49.3,'Service':17.6,'Sales':19.3,'Construction':3.2,'Production':10.7},'Citizenship':{'Naturalized':58.0,'Nat_2010':1.1,'Nat_2000_2009':11.2,'Nat_before_2000':46.2,'Not_citizen':41.5,'Not_2010':16.8,'Not_2000_2009':16.1,'Not_before_2000':8.5},'Income':{'Pop':5244542,'1_9999':1.9,'10000_14999':3.8,'15000_24999':13.0,'25000_34999':12.8,'35000_49999':15.1,'50000_74999':19.3,'75000_up':34.2},'Poverty_status'{'Pop':12567892,'Below_100':14.6,'100_199':16.5,'Above_200':68.9},'Housing'{'Occupied':4956395,'Owners':56.1,'Renters':43.9,'Owner_size':3.45,'Renter_size':2.80},'Household_no_one_english':26.4}\n",
    "dict2013_asia = {'Total':12176983,'School Enrollment':{'Pop':1985664,'Nursery':1.9,'Elementary':21.3,'High':14.6,'College':62.1},'Educational Attainment':{'Pop':10490212,'Less_than_HS':15.7,'High':16.3,'Some_college':18.6,'Bachelor':27.9,'Graduate':21.6},'Employment':{'Pop':11531294,'In_labor':64.2,'Civilian':64.1,'Civ_employed':59.9,'Civ_unemployed':4.1,'Armed_force':0.2,'Not_in_labor':35.8},'Occupation':{'Management':49.0,'Service':17.5,'Sales':19.9,'Construction':3.2,'Production':10.5},'Citizenship':{'Naturalized':59.2,'Nat_2010':0.7,'Nat_2000_2009':10.2,'Nat_before_2000':48.2,'Not_citizen':40.8,'Not_2010':13.5,'Not_2000_2009':18.0,'Not_before_2000':9.3},'Income':{'Pop':4982861,'1_9999':1.9,'10000_14999':3.8,'15000_24999':13.1,'25000_34999':12.3,'35000_49999':15.5,'50000_74999':19.5,'75000_up':33.8},'Poverty_status'{'Pop':12003283,'Below_100':14.7,'100_199':16.4,'Above_200':68.9},'Housing'{'Occupied':4749000,'Owners':56.0,'Renters':44.0,'Owner_size':3.49,'Renter_size':2.80},'Household_no_one_english':26.1}\n",
    "dict2012_asia = {'Total':11931658,'School Enrollment':{'Pop':2012150,'Nursery':1.8,'Elementary':20.9,'High':14.3,'College':63.0},'Educational Attainment':{'Pop':10268007,'Less_than_HS':16.0,'High':16.3,'Some_college':18.7,'Bachelor':28.0,'Graduate':21.0},'Employment':{'Pop':11298328,'In_labor':64.8,'Civilian':64.7,'Civ_employed':60.1,'Civ_unemployed':4.5,'Armed_force':0.2,'Not_in_labor':35.2},'Occupation':{'Management':48.2,'Service':17.7,'Sales':20.1,'Construction':3.4,'Production':10.6},'Citizenship':{'Naturalized':58.2,'Nat_2010':0.4,'Nat_2000_2009':9.0,'Nat_before_2000':48.8,'Not_citizen':41.8,'Not_2010':10.2,'Not_2000_2009':21.1,'Not_before_2000':10.5},'Income':{'Pop':4968156,'1_9999':2.0,'10000_14999':4.4,'15000_24999':13.8,'25000_34999':12.7,'35000_49999':15.5,'50000_74999':19.9,'75000_up':31.8},'Poverty_status'{'Pop':11754835,'Below_100':14.8,'100_199':16.6,'Above_200':68.6},'Housing'{'Occupied':4648761,'Owners':55.7,'Renters':44.3,'Owner_size':3.5,'Renter_size':2.78},'Household_no_one_english':26.8}\n",
    "dict2011_asia = {'Total':12750422,'School Enrollment':{'Pop':2092371,'Nursery':1.9,'Elementary':21.5,'High':14.5,'College':62.1},'Educational Attainment':{'Pop':10982592,'Less_than_HS':15.4,'High':16.6,'Some_college':18.3,'Bachelor':28.0,'Graduate':21.7},'Employment':{'Pop':12064684,'In_labor':63.7,'Civilian':63.6,'Civ_employed':60.1,'Civ_unemployed':3.5,'Armed_force':0.2,'Not_in_labor':36.3},'Occupation':{'Management':49.3,'Service':17.6,'Sales':19.3,'Construction':3.2,'Production':10.7},'Citizenship':{'Naturalized':58.,'Nat_2010':1.1,'Nat_2000_2009':11.2,'Nat_before_2000':46.2,'Not_citizen':41.5,'Not_2010':16.8,'Not_2000_2009':16.1,'Not_before_2000':8.5},'Income':{'Pop':5244542,'1_9999':1.9,'10000_14999':3.8,'15000_24999':13.0,'25000_34999':12.8,'35000_49999':15.1,'50000_74999':19.3,'75000_up':34.2},'Poverty_status'{'Pop':12567892,'Below_100':14.6,'100_199':16.5,'Above_200':68.9},'Housing'{'Occupied':4956395,'Owners':56.1,'Renters':43.9,'Owner_size':3.45,'Renter_size':2.80},'Household_no_one_english':26.4}\n",
    "dict2010_asia = {}\n",
    "dict2009_asia = {}\n",
    "dict2008_asia = {}\n",
    "dict2007_asia = {}\n",
    "dict2006_asia = {}\n",
    "data_Asia = pd.Series(data=[dict2014_asia,dict2013_asia,dict2012_asia,dict2011_asia,dict2010_asia,dict2009_asia,dict2008_asia,dict2007_asia,dict2006_asia],index=['2014','2013','2012','2011','2010','2009','2008','2007','2006'])\n",
    "\n",
    "dict2014_europe = {}\n",
    "dict2013_europe = {}\n",
    "dict2012_europe = {}\n",
    "dict2011_europe = {}\n",
    "dict2010_europe = {}\n",
    "dict2009_europe = {}\n",
    "dict2008_europe = {}\n",
    "dict2007_europe = {}\n",
    "dict2006_europe = {}\n",
    "data_Europe = pd.Series(data=[dict2014_europe,dict2013_europe,dict2012_europe,dict2011_europe,dict2010_europe,dict2009_europe,dict2008_europe,dict2007_europe,dict2006_europe],index=['2014','2013','2012','2011','2010','2009','2008','2007','2006'])\n",
    "\n"
   ]
  },
  {
   "cell_type": "code",
   "execution_count": 14,
   "metadata": {
    "collapsed": false
   },
   "outputs": [
    {
     "data": {
      "text/plain": [
       "{'Nat_2000_2009': 11.2,\n",
       " 'Nat_2010': 1.1,\n",
       " 'Nat_before_2000': 46.2,\n",
       " 'Naturalized': 58.0,\n",
       " 'Not_2000_2009': 16.1,\n",
       " 'Not_2010': 16.8,\n",
       " 'Not_before_2000': 8.5,\n",
       " 'Not_citizen': 41.5}"
      ]
     },
     "execution_count": 14,
     "metadata": {},
     "output_type": "execute_result"
    }
   ],
   "source": [
    "data_Asia['2014']['Citizenship']"
   ]
  },
  {
   "cell_type": "code",
   "execution_count": null,
   "metadata": {
    "collapsed": true
   },
   "outputs": [],
   "source": []
  }
 ],
 "metadata": {
  "kernelspec": {
   "display_name": "Python 2",
   "language": "python",
   "name": "python2"
  },
  "language_info": {
   "codemirror_mode": {
    "name": "ipython",
    "version": 2
   },
   "file_extension": ".py",
   "mimetype": "text/x-python",
   "name": "python",
   "nbconvert_exporter": "python",
   "pygments_lexer": "ipython2",
   "version": "2.7.11"
  }
 },
 "nbformat": 4,
 "nbformat_minor": 0
}
