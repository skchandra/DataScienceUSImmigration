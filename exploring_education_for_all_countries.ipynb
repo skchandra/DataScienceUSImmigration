{
 "cells": [
  {
   "cell_type": "markdown",
   "metadata": {},
   "source": [
    "In this data set, we will explore education for immigrants of all countries. "
   ]
  },
  {
   "cell_type": "code",
   "execution_count": 9,
   "metadata": {
    "collapsed": false
   },
   "outputs": [],
   "source": [
    "import pandas \n",
    "import numpy\n",
    "import matplotlib.pyplot as plt\n",
    "\n",
    "%matplotlib inline"
   ]
  },
  {
   "cell_type": "code",
   "execution_count": 10,
   "metadata": {
    "collapsed": true
   },
   "outputs": [],
   "source": [
    "def make_piBar(things2Plot, labels, title): \n",
    "    labels = labels\n",
    "    sizes = things2Plot\n",
    "    colors = ['yellowgreen', 'gold', 'lightskyblue', 'lightcoral']\n",
    "    patches, texts = plt.pie(sizes, colors=colors, shadow=True, startangle=90)\n",
    "    plt.legend(patches, labels, loc=\"best\")\n",
    "    plt.axis('equal')\n",
    "    plt.tight_layout()\n",
    "    plt.title(title)\n",
    "    plt.show()"
   ]
  },
  {
   "cell_type": "code",
   "execution_count": 11,
   "metadata": {
    "collapsed": true
   },
   "outputs": [],
   "source": [
    "def many_bars(x, y1, y2, y3, y4, y5, title, xlabels): \n",
    "    x_decreased_by_01 = [y - 0.1 for y in x]\n",
    "    x_decreased_by_02 = [y - 0.2 for y in x]\n",
    "    x_increased_by_01 = [y + 0.1 for y in x]\n",
    "    x_increased_by_02 = [y + 0.2 for y in x]\n",
    "    print (x_decreased_by_01)\n",
    "    print (x_decreased_by_02)\n",
    "    print(x)\n",
    "    print (x_increased_by_01)\n",
    "    print(x_increased_by_02)\n",
    "    \n",
    "    ax = plt.subplot(111)\n",
    "    bar1 = ax.bar(x_decreased_by_02, y1,width=0.1,color='b',align='center', label = 'less than hs')\n",
    "    bar2 = ax.bar(x_decreased_by_01, y2,width=0.1,color='g',align='center', label = 'high school')\n",
    "    bar3 = ax.bar(x, y3,width=0.1,color='r',align='center', label = 'some college')\n",
    "    bar4 = ax.bar(x_increased_by_01, y4,width=0.1,color='c',align='center', label = 'bachelors degree')\n",
    "    bar5 = ax.bar(x_increased_by_02, y5,width=0.1,color='y',align='center', label = 'graduate school')\n",
    "    plt.legend(handles=[bar1, bar2, bar3, bar4, bar5])\n",
    "    plt.title(title)\n",
    "    plt.xticks(x, xlabels)\n",
    "    plt.show()\n"
   ]
  },
  {
   "cell_type": "code",
   "execution_count": null,
   "metadata": {
    "collapsed": true
   },
   "outputs": [],
   "source": []
  }
 ],
 "metadata": {
  "kernelspec": {
   "display_name": "Python 2",
   "language": "python",
   "name": "python2"
  },
  "language_info": {
   "codemirror_mode": {
    "name": "ipython",
    "version": 2
   },
   "file_extension": ".py",
   "mimetype": "text/x-python",
   "name": "python",
   "nbconvert_exporter": "python",
   "pygments_lexer": "ipython2",
   "version": "2.7.11"
  }
 },
 "nbformat": 4,
 "nbformat_minor": 0
}
