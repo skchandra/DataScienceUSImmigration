{
 "cells": [
  {
   "cell_type": "code",
   "execution_count": 22,
   "metadata": {
    "collapsed": false
   },
   "outputs": [],
   "source": [
    "import pandas \n",
    "import numpy\n",
    "import matplotlib.pyplot as plt\n",
    "import importingData\n",
    "%matplotlib inline"
   ]
  },
  {
   "cell_type": "code",
   "execution_count": null,
   "metadata": {
    "collapsed": false
   },
   "outputs": [],
   "source": [
    "def make_piBar(things2Plot, labels, title): \n",
    "    labels = labels\n",
    "    sizes = things2Plot\n",
    "    colors = ['yellowgreen', 'gold', 'lightskyblue', 'lightcoral']\n",
    "    patches, texts = plt.pie(sizes, colors=colors, shadow=True, startangle=90)\n",
    "    plt.legend(patches, labels, loc=\"best\")\n",
    "    plt.axis('equal')\n",
    "    plt.tight_layout()\n",
    "    plt.title(title)\n",
    "    plt.show()"
   ]
  },
  {
   "cell_type": "code",
   "execution_count": null,
   "metadata": {
    "collapsed": false
   },
   "outputs": [],
   "source": [
    "def stacked_bar(set1, set2, xlabels, yticks, legend): \n",
    "    N = 5\n",
    "    ind = np.arange(N)    # the x locations for the groups\n",
    "    width = 0.35       # the width of the bars: can also be len(x) sequence\n",
    "\n",
    "    p1 = plt.bar(ind, set1, width, color='b')\n",
    "    p2 = plt.bar(ind, set2, width, color='y',\n",
    "                 bottom=set1)\n",
    "\n",
    "    plt.ylabel('Immigrant Count')\n",
    "    plt.title('Immigrants grouped by naturalized and illegal')\n",
    "    plt.xticks(ind + width/2., tickMarkLabels = xlabels)\n",
    "#     plt.yticks(np.arange(0, 81, 10))\n",
    "    plt.yticks(yticks)\n",
    "    plt.legend((p1[0], p2[0]), legend)\n",
    "\n",
    "    plt.show()"
   ]
  },
  {
   "cell_type": "code",
   "execution_count": null,
   "metadata": {
    "collapsed": false
   },
   "outputs": [],
   "source": [
    "def many_bars(x, y1, y2, y3, y4, y5, title, xlabels): \n",
    "    x_decreased_by_01 = [y - 0.1 for y in x]\n",
    "    x_decreased_by_02 = [y - 0.2 for y in x]\n",
    "    x_increased_by_01 = [y + 0.1 for y in x]\n",
    "    x_increased_by_02 = [y + 0.2 for y in x]\n",
    "    print (x_decreased_by_01)\n",
    "    print (x_decreased_by_02)\n",
    "    print(x)\n",
    "    print (x_increased_by_01)\n",
    "    print(x_increased_by_02)\n",
    "    \n",
    "    ax = plt.subplot(111)\n",
    "    bar1 = ax.bar(x_decreased_by_02, y1,width=0.1,color='b',align='center', label = 'less than hs')\n",
    "    bar2 = ax.bar(x_decreased_by_01, y2,width=0.1,color='g',align='center', label = 'high school')\n",
    "    bar3 = ax.bar(x, y3,width=0.1,color='r',align='center', label = 'some college')\n",
    "    bar4 = ax.bar(x_increased_by_01, y4,width=0.1,color='c',align='center', label = 'bachelors degree')\n",
    "    bar5 = ax.bar(x_increased_by_02, y5,width=0.1,color='y',align='center', label = 'graduate school')\n",
    "    plt.legend(handles=[bar1, bar2, bar3, bar4, bar5])\n",
    "    plt.title(title)\n",
    "    plt.xticks(x, xlabels)\n",
    "    plt.show()\n"
   ]
  },
  {
   "cell_type": "code",
   "execution_count": null,
   "metadata": {
    "collapsed": false
   },
   "outputs": [],
   "source": [
    "# class getAsianData:\n",
    "#     def __init__(self):\n",
    "#         self.asian_data_2014 = pandas.read_csv(\"Asian_ACS_Foreign_Born_Characteristics_2014.csv\"); \n",
    "\n",
    "#     def total_asian_population(self): \n",
    "#         total_asian_pop = asian_data_2014[\"HC01_EST_VC01\"].iloc[1]\n",
    "#         total_asian_pop_born_in_Asia = asian_data_2014[\"HC02_EST_VC01\"].iloc[1]\n",
    "#         total_asian_pop_born_in_East_Asia = asian_data_2014[\"HC03_EST_VC01\"].iloc[1]\n",
    "#         total_asian_pop_born_in_South_Asia = asian_data_2014[\"HC04_EST_VC01\"].iloc[1]\n",
    "#         total_asian_pop_born_in_South_Eastern_Asia = asian_data_2014[\"HC05_EST_VC01\"].iloc[1]\n",
    "#         total_asian_pop_born_in_Western_Asia = asian_data_2014[\"HC06_EST_VC01\"].iloc[1]\n",
    "\n",
    "#         return [total_asian_pop, total_asian_pop_born_in_Asia, total_asian_pop_born_in_South_Asia, \n",
    "#         total_asian_pop_born_in_South_Eastern_Asia, total_asian_pop_born_in_Western_Asia]\n",
    "\n",
    "#     def getDataFrame(self): \n",
    "#         return asian_data_2014\n",
    "\n",
    "#     def printSomething(self): \n",
    "#         print 'something'\n"
   ]
  },
  {
   "cell_type": "code",
   "execution_count": 23,
   "metadata": {
    "collapsed": false
   },
   "outputs": [
    {
     "name": "stdout",
     "output_type": "stream",
     "text": [
      "<module 'importingData' from 'importingData.py'>\n"
     ]
    },
    {
     "ename": "NameError",
     "evalue": "global name 'pandas' is not defined",
     "output_type": "error",
     "traceback": [
      "\u001b[1;31m---------------------------------------------------------------------------\u001b[0m",
      "\u001b[1;31mNameError\u001b[0m                                 Traceback (most recent call last)",
      "\u001b[1;32m<ipython-input-23-623579bd9b4a>\u001b[0m in \u001b[0;36m<module>\u001b[1;34m()\u001b[0m\n\u001b[0;32m      1\u001b[0m \u001b[1;32mprint\u001b[0m \u001b[0mimportingData\u001b[0m\u001b[1;33m\u001b[0m\u001b[0m\n\u001b[1;32m----> 2\u001b[1;33m \u001b[0masian_data\u001b[0m \u001b[1;33m=\u001b[0m \u001b[0mimportingData\u001b[0m\u001b[1;33m.\u001b[0m\u001b[0mAsianData\u001b[0m\u001b[1;33m(\u001b[0m\u001b[1;33m)\u001b[0m\u001b[1;33m\u001b[0m\u001b[0m\n\u001b[0m\u001b[0;32m      3\u001b[0m \u001b[0masian_data\u001b[0m\u001b[1;33m\u001b[0m\u001b[0m\n",
      "\u001b[1;32m/home/casey/Desktop/DataScienceUSImmigration/importingData.py\u001b[0m in \u001b[0;36m__init__\u001b[1;34m(self)\u001b[0m\n\u001b[0;32m      9\u001b[0m         \u001b[1;32mdef\u001b[0m \u001b[0m__init__\u001b[0m\u001b[1;33m(\u001b[0m\u001b[0mself\u001b[0m\u001b[1;33m)\u001b[0m\u001b[1;33m:\u001b[0m\u001b[1;33m\u001b[0m\u001b[0m\n\u001b[0;32m     10\u001b[0m                 \u001b[0mself\u001b[0m\u001b[1;33m.\u001b[0m\u001b[0masian_data_2014\u001b[0m \u001b[1;33m=\u001b[0m \u001b[0mpandas\u001b[0m\u001b[1;33m.\u001b[0m\u001b[0mread_csv\u001b[0m\u001b[1;33m(\u001b[0m\u001b[1;34m\"Asian_ACS_Foreign_Born_Characteristics_2014.csv\"\u001b[0m\u001b[1;33m)\u001b[0m\u001b[1;33m\u001b[0m\u001b[0m\n\u001b[1;32m---> 11\u001b[1;33m                 \u001b[1;31m# self.asian_data_2014 = []\u001b[0m\u001b[1;33m\u001b[0m\u001b[1;33m\u001b[0m\u001b[0m\n\u001b[0m\u001b[0;32m     12\u001b[0m \u001b[1;33m\u001b[0m\u001b[0m\n\u001b[0;32m     13\u001b[0m         \u001b[1;32mdef\u001b[0m \u001b[0mtotal_asian_population\u001b[0m\u001b[1;33m(\u001b[0m\u001b[0mself\u001b[0m\u001b[1;33m)\u001b[0m\u001b[1;33m:\u001b[0m\u001b[1;33m\u001b[0m\u001b[0m\n",
      "\u001b[1;31mNameError\u001b[0m: global name 'pandas' is not defined"
     ]
    }
   ],
   "source": [
    "print importingData\n",
    "asian_data = importingData.AsianData()\n",
    "asian_data"
   ]
  },
  {
   "cell_type": "code",
   "execution_count": null,
   "metadata": {
    "collapsed": false
   },
   "outputs": [],
   "source": [
    "df.head(10)"
   ]
  },
  {
   "cell_type": "code",
   "execution_count": null,
   "metadata": {
    "collapsed": true
   },
   "outputs": [],
   "source": [
    "def clean_data(data):\n",
    "#     print data.isnull().sum()\n",
    "    data = data.fillna(0)\n",
    "#     print data.isnull().sum()\n",
    "    return data"
   ]
  },
  {
   "cell_type": "code",
   "execution_count": null,
   "metadata": {
    "collapsed": false
   },
   "outputs": [],
   "source": [
    "df_c= clean_data(df)"
   ]
  },
  {
   "cell_type": "code",
   "execution_count": null,
   "metadata": {
    "collapsed": false
   },
   "outputs": [],
   "source": [
    "df_c[\"HC01_MOE_VC01\"].iloc[1]"
   ]
  },
  {
   "cell_type": "markdown",
   "metadata": {},
   "source": [
    "Collecting the total foreign born population and then the population for each Asian region because all of the other data is in percentage of the population. "
   ]
  },
  {
   "cell_type": "code",
   "execution_count": null,
   "metadata": {
    "collapsed": false
   },
   "outputs": [],
   "source": [
    "total_asian_pop = df_c[\"HC01_EST_VC01\"].iloc[1]"
   ]
  },
  {
   "cell_type": "code",
   "execution_count": null,
   "metadata": {
    "collapsed": false
   },
   "outputs": [],
   "source": [
    "total_asian_pop_born_in_Asia = df_c[\"HC02_EST_VC01\"].iloc[1]"
   ]
  },
  {
   "cell_type": "code",
   "execution_count": null,
   "metadata": {
    "collapsed": false
   },
   "outputs": [],
   "source": [
    "total_asian_pop_born_in_East_Asia = df_c[\"HC03_EST_VC01\"].iloc[1]"
   ]
  },
  {
   "cell_type": "code",
   "execution_count": null,
   "metadata": {
    "collapsed": false
   },
   "outputs": [],
   "source": [
    "total_asian_pop_born_in_South_Asia = df_c[\"HC04_EST_VC01\"].iloc[1]"
   ]
  },
  {
   "cell_type": "code",
   "execution_count": null,
   "metadata": {
    "collapsed": false
   },
   "outputs": [],
   "source": [
    "total_asian_pop_born_in_South_Eastern_Asia =df_c[\"HC05_EST_VC01\"].iloc[1]"
   ]
  },
  {
   "cell_type": "code",
   "execution_count": null,
   "metadata": {
    "collapsed": false
   },
   "outputs": [],
   "source": [
    "total_asian_pop_born_in_Western_Asia = df_c[\"HC06_EST_VC01\"].iloc[1]"
   ]
  },
  {
   "cell_type": "markdown",
   "metadata": {},
   "source": [
    "NOW EXPLORE THE NUMBER OF NATURALIZED VERSUS ILLIGAL IMMIGRANTS HERE"
   ]
  },
  {
   "cell_type": "code",
   "execution_count": null,
   "metadata": {
    "collapsed": false
   },
   "outputs": [],
   "source": [
    "percent_asian_born_in_Asia_\n",
    "set1 = total_asian_pop_born_in_Asia \n",
    "stacked_bar()"
   ]
  },
  {
   "cell_type": "markdown",
   "metadata": {},
   "source": [
    "NOW EXPLORING SCHOOL ENROLLMENT"
   ]
  },
  {
   "cell_type": "markdown",
   "metadata": {},
   "source": [
    "First, we will plot the number of asians (I think born in the USA) that are attending school and which percentage of them are in which grade levels. Interestingly enough below, we see that the majority of Asian students are in College, but very few of them are in preschool. "
   ]
  },
  {
   "cell_type": "code",
   "execution_count": null,
   "metadata": {
    "collapsed": false
   },
   "outputs": [],
   "source": [
    "pop_3_years_and_older_enrolled_in_school_total = df_c[\"HC01_EST_VC57\"]\n",
    "pop_3_years_and_older_enrolled_in_school_total_nursery = df_c[\"HC01_EST_VC58\"]\n",
    "pop_3_years_and_older_enrolled_in_school_total_elem = df_c[\"HC01_EST_VC59\"]\n",
    "pop_3_years_and_older_enrolled_in_school_total_high = df_c[\"HC01_EST_VC60\"]\n",
    "pop_3_years_and_older_enrolled_in_school_total_college = df_c[\"HC01_EST_VC61\"]\n",
    "make_piBar([pop_3_years_and_older_enrolled_in_school_total_nursery.iloc[1],\n",
    "            pop_3_years_and_older_enrolled_in_school_total_elem.iloc[1], \n",
    "            pop_3_years_and_older_enrolled_in_school_total_high.iloc[1], \n",
    "            pop_3_years_and_older_enrolled_in_school_total_college.iloc[1]\n",
    "           ], \n",
    "           labels = ['Nursery School', 'Elementary School', 'High School', 'College'], \n",
    "          title = \"Asians in 2014 enrolled in school. Total Asians in School is \" + pop_3_years_and_older_enrolled_in_school_total.iloc[1])"
   ]
  },
  {
   "cell_type": "code",
   "execution_count": null,
   "metadata": {
    "collapsed": false
   },
   "outputs": [],
   "source": [
    "pop_3_years_and_older_enrolled_in_school_born_in_Asia_total = df_c[\"HC02_EST_VC57\"]\n",
    "pop_3_years_and_older_enrolled_in_school_born_in_Asia_nursery = df_c[\"HC02_EST_VC58\"]\n",
    "pop_3_years_and_older_enrolled_in_school_born_in_Asia_elem = df_c[\"HC02_EST_VC59\"]\n",
    "pop_3_years_and_older_enrolled_in_school_born_in_Asia_high = df_c[\"HC02_EST_VC60\"]\n",
    "pop_3_years_and_older_enrolled_in_school_born_in_Asia_college = df_c[\"HC02_EST_VC61\"]\n",
    "make_piBar([pop_3_years_and_older_enrolled_in_school_born_in_Asia_nursery.iloc[1],\n",
    "            pop_3_years_and_older_enrolled_in_school_born_in_Asia_elem.iloc[1], \n",
    "            pop_3_years_and_older_enrolled_in_school_born_in_Asia_high.iloc[1], \n",
    "            pop_3_years_and_older_enrolled_in_school_born_in_Asia_college.iloc[1]\n",
    "           ], \n",
    "           labels = ['Nursery School', 'Elementary School', 'High School', 'College'], \n",
    "          title = \"Asians (born in Asia) in 2014 enrolled in school. Total Asians (born in Asia) in School is \" + pop_3_years_and_older_enrolled_in_school_born_in_Asia_total.iloc[1])\n"
   ]
  },
  {
   "cell_type": "code",
   "execution_count": null,
   "metadata": {
    "collapsed": false
   },
   "outputs": [],
   "source": [
    "pop_3_years_and_older_enrolled_in_school_born_in_Eastern_Asia_total = df_c[\"HC03_EST_VC57\"]\n",
    "pop_3_years_and_older_enrolled_in_school_born_in_Eastern_Asia_nursery = df_c[\"HC03_EST_VC58\"]\n",
    "pop_3_years_and_older_enrolled_in_school_born_in_Eastern_Asia_elem = df_c[\"HC03_EST_VC59\"]\n",
    "pop_3_years_and_older_enrolled_in_school_born_in_Eastern_Asia_high = df_c[\"HC03_EST_VC60\"]\n",
    "pop_3_years_and_older_enrolled_in_school_born_in_Eastern_Asia_college = df_c[\"HC03_EST_VC61\"]\n",
    "make_piBar([pop_3_years_and_older_enrolled_in_school_born_in_Eastern_Asia_nursery.iloc[1],\n",
    "            pop_3_years_and_older_enrolled_in_school_born_in_Eastern_Asia_elem.iloc[1], \n",
    "            pop_3_years_and_older_enrolled_in_school_born_in_Eastern_Asia_high.iloc[1], \n",
    "            pop_3_years_and_older_enrolled_in_school_born_in_Eastern_Asia_college.iloc[1]\n",
    "           ], \n",
    "           labels = ['Nursery School', 'Elementary School', 'High School', 'College'], \n",
    "          title = \"Eastern Asians in 2014 enrolled in school. Total Eastern Asians in School is \" + pop_3_years_and_older_enrolled_in_school_born_in_Eastern_Asia_total.iloc[1])"
   ]
  },
  {
   "cell_type": "code",
   "execution_count": null,
   "metadata": {
    "collapsed": false
   },
   "outputs": [],
   "source": [
    "pop_3_years_and_older_enrolled_in_school_born_in_South_Central_Asia_total = df_c[\"HC04_EST_VC57\"]\n",
    "pop_3_years_and_older_enrolled_in_school_born_in_South_Central_Asia_nursery = df_c[\"HC04_EST_VC58\"]\n",
    "pop_3_years_and_older_enrolled_in_school_born_in_South_Central_Asia_elem = df_c[\"HC04_EST_VC59\"]\n",
    "pop_3_years_and_older_enrolled_in_school_born_in_South_Central_Asia_high = df_c[\"HC04_EST_VC60\"]\n",
    "pop_3_years_and_older_enrolled_in_school_born_in_South_Central_Asia_college = df[\"HC04_EST_VC61\"]\n",
    "make_piBar([pop_3_years_and_older_enrolled_in_school_born_in_South_Central_Asia_nursery.iloc[1],\n",
    "            pop_3_years_and_older_enrolled_in_school_born_in_South_Central_Asia_elem.iloc[1], \n",
    "            pop_3_years_and_older_enrolled_in_school_born_in_South_Central_Asia_high.iloc[1], \n",
    "            pop_3_years_and_older_enrolled_in_school_born_in_South_Central_Asia_college.iloc[1]\n",
    "           ], \n",
    "           labels = ['Nursery School', 'Elementary School', 'High School', 'College'], \n",
    "          title = \"South Central Asians in 2014 enrolled in school. Total South Central Asians in School is \" + pop_3_years_and_older_enrolled_in_school_born_in_South_Central_Asia_total.iloc[1])"
   ]
  },
  {
   "cell_type": "code",
   "execution_count": null,
   "metadata": {
    "collapsed": false
   },
   "outputs": [],
   "source": [
    "pop_3_years_and_older_enrolled_in_school_born_in_South_Eastern_Asia_total = df_c[\"HC05_EST_VC57\"]\n",
    "pop_3_years_and_older_enrolled_in_school_born_in_South_Eastern_Asia_nursery = df_c[\"HC05_EST_VC58\"]\n",
    "pop_3_years_and_older_enrolled_in_school_born_in_South_Eastern_Asia_elem = df_c[\"HC05_EST_VC59\"]\n",
    "pop_3_years_and_older_enrolled_in_school_born_in_South_Eastern_Asia_high = df_c[\"HC05_EST_VC60\"]\n",
    "pop_3_years_and_older_enrolled_in_school_born_in_South_Eastern_Asia_college = df_c[\"HC05_EST_VC61\"]\n",
    "make_piBar([pop_3_years_and_older_enrolled_in_school_born_in_South_Eastern_Asia_nursery.iloc[1],\n",
    "            pop_3_years_and_older_enrolled_in_school_born_in_South_Eastern_Asia_elem.iloc[1], \n",
    "            pop_3_years_and_older_enrolled_in_school_born_in_South_Eastern_Asia_high.iloc[1], \n",
    "            pop_3_years_and_older_enrolled_in_school_born_in_South_Eastern_Asia_college.iloc[1]\n",
    "           ], \n",
    "           labels = ['Nursery School', 'Elementary School', 'High School', 'College'], \n",
    "          title = \"South Eastern Asians in 2014 enrolled in school. Total South Eastern Asians in School is \" + pop_3_years_and_older_enrolled_in_school_born_in_South_Eastern_Asia_total.iloc[1])"
   ]
  },
  {
   "cell_type": "code",
   "execution_count": null,
   "metadata": {
    "collapsed": false
   },
   "outputs": [],
   "source": [
    "pop_3_years_and_older_enrolled_in_school_born_in_Western_Asia_total = df_c[\"HC05_EST_VC57\"]\n",
    "pop_3_years_and_older_enrolled_in_school_born_in_Western_Asia_nursery = df_c[\"HC05_EST_VC58\"]\n",
    "pop_3_years_and_older_enrolled_in_school_born_in_Western_Asia_elem = df_c[\"HC05_EST_VC59\"]\n",
    "pop_3_years_and_older_enrolled_in_school_born_in_Western_Asia_high = df_c[\"HC05_EST_VC60\"]\n",
    "pop_3_years_and_older_enrolled_in_school_born_in_Western_Asia_college = df_c[\"HC05_EST_VC61\"]\n",
    "make_piBar([pop_3_years_and_older_enrolled_in_school_born_in_Western_Asia_nursery.iloc[1],\n",
    "            pop_3_years_and_older_enrolled_in_school_born_in_Western_Asia_elem.iloc[1], \n",
    "            pop_3_years_and_older_enrolled_in_school_born_in_Western_Asia_high.iloc[1], \n",
    "            pop_3_years_and_older_enrolled_in_school_born_in_Western_Asia_college.iloc[1]\n",
    "           ], \n",
    "           labels = ['Nursery School', 'Elementary School', 'High School', 'College'], \n",
    "          title = \"Western Asians in 2014 enrolled in school. Total Western Asians in School is \" + pop_3_years_and_older_enrolled_in_school_born_in_Western_Asia_total.iloc[1])"
   ]
  },
  {
   "cell_type": "markdown",
   "metadata": {},
   "source": [
    "NOW EXPLORING IN 2014, THE COLLEGE EDUCATION DATA \n",
    "This is for invididuals greater than 25"
   ]
  },
  {
   "cell_type": "markdown",
   "metadata": {},
   "source": [
    "Getting all of the populations because everything is a fraction of this population. "
   ]
  },
  {
   "cell_type": "code",
   "execution_count": null,
   "metadata": {
    "collapsed": false
   },
   "outputs": [],
   "source": [
    "educ_attainment_pop_total = df[\"HC01_EST_VC64\"]\n",
    "less_than_hs_grad_total = df[\"HC01_EST_VC65\"] \n",
    "hs_grad_total = df[\"HC01_EST_VC66\"]\n",
    "some_college_total = df[\"HC01_EST_VC67\"]\n",
    "bachelors_degree_total = df[\"HC01_EST_VC68\"]\n",
    "graduate_degree_total = df[\"HC01_EST_VC69\"]"
   ]
  },
  {
   "cell_type": "code",
   "execution_count": null,
   "metadata": {
    "collapsed": false
   },
   "outputs": [],
   "source": [
    "total = int(educ_attainment_pop_total.iloc[1])/100\n",
    "\n",
    "many_bars(0, float(less_than_hs_grad_total.iloc[1])*total, float(hs_grad_total.iloc[1])*total, \n",
    "         float(some_college_total.iloc[1])* total, \n",
    "          float(bachelors_degree_total.iloc[1])*total, \n",
    "          float(graduate_degree_total.iloc[1])*total, 'Educational Obtainment of all Asians', \n",
    "          ['less than high school', 'high school', 'some college', 'bachelors degree', 'graduate degree' ])\n",
    "print float(less_than_hs_grad_total.iloc[1])*total"
   ]
  },
  {
   "cell_type": "code",
   "execution_count": null,
   "metadata": {
    "collapsed": false
   },
   "outputs": [],
   "source": [
    "educ_attainment_pop_born_in_Asia = df[\"HC02_EST_VC64\"].iloc[1]\n",
    "less_than_hs_grad_born_in_Asia = df[\"HC02_EST_VC65\"].iloc[1]\n",
    "hs_grad_total_born_in_Asia = df[\"HC02_EST_VC66\"].iloc[1]\n",
    "some_college_born_in_Asia = df[\"HC02_EST_VC67\"].iloc[1]\n",
    "bachelors_degree_born_in_Asia = df[\"HC02_EST_VC68\"].iloc[1]\n",
    "graduate_degree_born_in_Asia = df[\"HC02_EST_VC69\"].iloc[1]"
   ]
  },
  {
   "cell_type": "code",
   "execution_count": null,
   "metadata": {
    "collapsed": false
   },
   "outputs": [],
   "source": [
    "educ_attainment_pop_born_in_Eastern_Asia = df[\"HC03_EST_VC64\"].iloc[1]\n",
    "less_than_hs_grad_born_in_Eastern_Asia = df[\"HC03_EST_VC65\"].iloc[1]\n",
    "hs_grad_total_born_in_Eastern_Asia = df[\"HC03_EST_VC66\"].iloc[1]\n",
    "some_college_born_in_Eastern_Asia = df[\"HC03_EST_VC67\"].iloc[1]\n",
    "bachelors_degree_born_in_Eastern_Asia = df[\"HC03_EST_VC68\"].iloc[1]\n",
    "graduate_degree_born_in_Eastern_Asia = df[\"HC03_EST_VC69\"].iloc[1]\n",
    "graduate_degree_born_in_Eastern_Asia"
   ]
  },
  {
   "cell_type": "code",
   "execution_count": null,
   "metadata": {
    "collapsed": false
   },
   "outputs": [],
   "source": [
    "educ_attainment_pop_born_in_South_Central_Asia = df[\"HC04_EST_VC64\"].iloc[1]\n",
    "less_than_hs_grad_born_in_South_Central_Asia = df[\"HC04_EST_VC65\"].iloc[1]\n",
    "hs_grad_total_born_in_South_Central_Asia = df[\"HC04_EST_VC66\"].iloc[1]\n",
    "some_college_born_in_South_Central_Asia = df[\"HC04_EST_VC67\"].iloc[1]\n",
    "bachelors_degree_born_in_South_Central_Asia = df[\"HC04_EST_VC68\"].iloc[1]\n",
    "graduate_degree_born_in_South_Central_Asia = df[\"HC04_EST_VC69\"].iloc[1]\n",
    "graduate_degree_born_in_South_Central_Asia"
   ]
  },
  {
   "cell_type": "code",
   "execution_count": null,
   "metadata": {
    "collapsed": false
   },
   "outputs": [],
   "source": [
    "educ_attainment_pop_born_in_South_Eastern_Asia = df[\"HC05_EST_VC64\"].iloc[1]\n",
    "less_than_hs_grad_born_in_South_Eastern_Asia = df[\"HC05_EST_VC65\"].iloc[1]\n",
    "hs_grad_total_born_in_South_Eastern_Asia = df[\"HC05_EST_VC66\"].iloc[1]\n",
    "some_college_born_in_South_Eastern_Asia = df[\"HC05_EST_VC67\"].iloc[1]\n",
    "bachelors_degree_born_in_South_Eastern_Asia = df[\"HC05_EST_VC68\"].iloc[1]\n",
    "graduate_degree_born_in_South_Eastern_Asia = df[\"HC05_EST_VC69\"].iloc[1]\n",
    "graduate_degree_born_in_South_Eastern_Asia"
   ]
  },
  {
   "cell_type": "code",
   "execution_count": null,
   "metadata": {
    "collapsed": false
   },
   "outputs": [],
   "source": [
    "educ_attainment_pop_born_in_Western_Asia = df[\"HC06_EST_VC64\"].iloc[1]\n",
    "less_than_hs_grad_born_in_Western_Asia = df[\"HC06_EST_VC65\"].iloc[1]\n",
    "hs_grad_total_born_in_Western_Asia = df[\"HC06_EST_VC66\"].iloc[1]\n",
    "some_college_born_in_Western_Asia = df[\"HC06_EST_VC67\"].iloc[1]\n",
    "bachelors_degree_born_in_Western_Asia = df[\"HC06_EST_VC68\"].iloc[1]\n",
    "graduate_degree_born_in_Western_Asia = df[\"HC06_EST_VC69\"].iloc[1]\n",
    "graduate_degree_born_in_Western_Asia"
   ]
  },
  {
   "cell_type": "code",
   "execution_count": null,
   "metadata": {
    "collapsed": false
   },
   "outputs": [],
   "source": [
    "total_born_in_Asia = int(educ_attainment_pop_born_in_Asia)/100\n",
    "total_born_in_Eastern_Asia = int(educ_attainment_pop_born_in_Eastern_Asia)/100\n",
    "total_born_in_South_Central_Asia = int(educ_attainment_pop_born_in_South_Central_Asia)/100\n",
    "total_born_in_South_Eastern_Asia = int(educ_attainment_pop_born_in_South_Eastern_Asia)/100\n",
    "total_born_in_Western_Asia = int(educ_attainment_pop_born_in_Western_Asia)/100"
   ]
  },
  {
   "cell_type": "code",
   "execution_count": null,
   "metadata": {
    "collapsed": false
   },
   "outputs": [],
   "source": [
    "y = [float(less_than_hs_grad_born_in_Asia)*total_born_in_Asia, \n",
    "    float(less_than_hs_grad_born_in_Eastern_Asia)*total_born_in_Eastern_Asia,\n",
    "    float(less_than_hs_grad_born_in_South_Central_Asia)*total_born_in_South_Central_Asia, \n",
    "    float(less_than_hs_grad_born_in_South_Eastern_Asia)*total_born_in_South_Eastern_Asia, \n",
    "    float(less_than_hs_grad_born_in_Western_Asia)*total_born_in_Western_Asia]"
   ]
  },
  {
   "cell_type": "code",
   "execution_count": null,
   "metadata": {
    "collapsed": false
   },
   "outputs": [],
   "source": [
    "k = [float(hs_grad_total_born_in_Asia)*total_born_in_Asia, float(hs_grad_total_born_in_Eastern_Asia)*total_born_in_Eastern_Asia, \n",
    "     float(hs_grad_total_born_in_South_Central_Asia)*total_born_in_South_Central_Asia, \n",
    "    float(hs_grad_total_born_in_South_Eastern_Asia)*total_born_in_South_Eastern_Asia, \n",
    "     float(hs_grad_total_born_in_Western_Asia)*total_born_in_Western_Asia ]"
   ]
  },
  {
   "cell_type": "code",
   "execution_count": null,
   "metadata": {
    "collapsed": false
   },
   "outputs": [],
   "source": [
    "z = [float(some_college_born_in_Asia)*total_born_in_Asia, float(some_college_born_in_Eastern_Asia)*total_born_in_Eastern_Asia, \n",
    "     float(some_college_born_in_South_Central_Asia)*total_born_in_South_Central_Asia, \n",
    "    float(some_college_born_in_South_Eastern_Asia)*total_born_in_South_Eastern_Asia,\n",
    "     float(some_college_born_in_Western_Asia)*total_born_in_Western_Asia]"
   ]
  },
  {
   "cell_type": "code",
   "execution_count": null,
   "metadata": {
    "collapsed": true
   },
   "outputs": [],
   "source": [
    "x = [float(bachelors_degree_born_in_Asia)*total_born_in_Asia, float(bachelors_degree_born_in_Eastern_Asia)*total_born_in_Eastern_Asia, \n",
    "     float(bachelors_degree_born_in_South_Central_Asia)*total_born_in_South_Central_Asia, \n",
    "    float(bachelors_degree_born_in_South_Eastern_Asia)*total_born_in_South_Eastern_Asia, \n",
    "     float(bachelors_degree_born_in_Western_Asia)*total_born_in_Western_Asia]"
   ]
  },
  {
   "cell_type": "code",
   "execution_count": null,
   "metadata": {
    "collapsed": true
   },
   "outputs": [],
   "source": [
    "t = [float(graduate_degree_born_in_Asia)*total_born_in_Asia, float(graduate_degree_born_in_Eastern_Asia)*total_born_in_Eastern_Asia, \n",
    "     float(graduate_degree_born_in_South_Central_Asia)*total_born_in_South_Central_Asia, \n",
    "    float(graduate_degree_born_in_South_Eastern_Asia)*total_born_in_South_Eastern_Asia,\n",
    "     float(graduate_degree_born_in_Western_Asia)*total_born_in_Western_Asia]"
   ]
  },
  {
   "cell_type": "code",
   "execution_count": null,
   "metadata": {
    "collapsed": false
   },
   "outputs": [],
   "source": [
    "total = int(educ_attainment_pop_total.iloc[1])/100\n",
    "many_bars([0, 1, 2, 3, 4], y, k, z, x, t, 'Educational Obtainment of all Asians', ['Born in Asia', 'E Asia', \n",
    "                                                                                   'SC Asia', 'SE Asia', \n",
    "                                                                                  'W Asia'])"
   ]
  },
  {
   "cell_type": "code",
   "execution_count": null,
   "metadata": {
    "collapsed": true
   },
   "outputs": [],
   "source": [
    "educ_attainment_pop_born_in_Asia = df[\"HC02_EST_VC64\"]\n",
    "educ_attainment_pop_born_in_Eastern_Asia = df[\"HC03_EST_VC64\"] \n",
    "educ_attainment_pop_born_in_South_Central_Asia = df[\"HC04_EST_VC64\"] \n",
    "educ_attainment_pop_born_in_South_Eastern_Asia = df[\"HC05_EST_VC64\"]\n",
    "educ_attainment_pop_born_in_Western_Asia = df[\"HC06_EST_VC64\"]"
   ]
  },
  {
   "cell_type": "code",
   "execution_count": null,
   "metadata": {
    "collapsed": true
   },
   "outputs": [],
   "source": []
  },
  {
   "cell_type": "code",
   "execution_count": null,
   "metadata": {
    "collapsed": true
   },
   "outputs": [],
   "source": []
  }
 ],
 "metadata": {
  "kernelspec": {
   "display_name": "Python 2",
   "language": "python",
   "name": "python2"
  },
  "language_info": {
   "codemirror_mode": {
    "name": "ipython",
    "version": 2
   },
   "file_extension": ".py",
   "mimetype": "text/x-python",
   "name": "python",
   "nbconvert_exporter": "python",
   "pygments_lexer": "ipython2",
   "version": "2.7.11"
  }
 },
 "nbformat": 4,
 "nbformat_minor": 0
}
