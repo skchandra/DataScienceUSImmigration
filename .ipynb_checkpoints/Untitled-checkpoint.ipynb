{
 "cells": [
  {
   "cell_type": "code",
   "execution_count": 1,
   "metadata": {
    "collapsed": false
   },
   "outputs": [
    {
     "name": "stderr",
     "output_type": "stream",
     "text": [
      "/home/casey/anaconda/lib/python2.7/site-packages/pandas/computation/__init__.py:19: UserWarning: The installed version of numexpr 2.4.4 is not supported in pandas and will be not be used\n",
      "\n",
      "  UserWarning)\n"
     ]
    }
   ],
   "source": [
    "import pandas \n",
    "import numpy\n",
    "import matplotlib.pyplot as plt\n",
    "import importingData\n",
    "%matplotlib inline"
   ]
  },
  {
   "cell_type": "code",
   "execution_count": 4,
   "metadata": {
    "collapsed": true
   },
   "outputs": [],
   "source": [
    "def make_piBar(things2Plot, labels, title):\n",
    "    labels = labels\n",
    "    sizes = things2Plot\n",
    "    colors = ['yellowgreen', 'gold', 'lightskyblue', 'lightcoral']\n",
    "    patches, texts = plt.pie(sizes, colors=colors, shadow=True, startangle=90)\n",
    "    plt.legend(patches, labels, loc=\"best\")\n",
    "    plt.axis('equal')\n",
    "    plt.tight_layout()\n",
    "    plt.title(title)\n",
    "    plt.show()"
   ]
  },
  {
   "cell_type": "code",
   "execution_count": 7,
   "metadata": {
    "collapsed": false
   },
   "outputs": [],
   "source": [
    "def make_piBar_multiple(things2Plot1, things2Plot2, things2Plot3, things2Plot4):\n",
    "    plt.figure(figsize=(20, 7))\n",
    "    ax1 = plt.subplot(1, 4, 1)\n",
    "    labels = ['Nursery School', 'Elementary School', 'High School', 'College']\n",
    "    colors = ['yellowgreen', 'gold', 'lightskyblue', 'lightcoral']\n",
    "    patches= plt.pie(things2Plot1, colors=colors, autopct='%1.1f%%')\n",
    "    plt.legend(patches, labels = labels, loc=\"best\")\n",
    "    plt.tight_layout()\n",
    "    plt.title('People Born in Africa enrolled in School', fontsize = 15)\n",
    "    \n",
    "    ax2 = plt.subplot(1, 4, 2)\n",
    "    colors = ['yellowgreen', 'gold', 'lightskyblue', 'lightcoral']\n",
    "    patches= plt.pie(things2Plot2, colors=colors, autopct='%1.1f%%')\n",
    "    plt.legend(patches, labels = labels, loc=\"best\")\n",
    "    plt.tight_layout()\n",
    "    plt.title('People Born in North America enrolled in School', fontsize = 15)\n",
    "    \n",
    "    ax3 = plt.subplot(1, 4, 3)\n",
    "    colors = ['yellowgreen', 'gold', 'lightskyblue', 'lightcoral']\n",
    "    patches= plt.pie(things2Plot3, colors=colors, autopct='%1.1f%%')\n",
    "    plt.legend(patches, labels = labels, loc=\"best\")\n",
    "    plt.tight_layout()\n",
    "    plt.title('People Born in Oceania enrolled in School', fontsize = 15)\n",
    "    \n",
    "    ax4 = plt.subplot(1, 4, 4)\n",
    "    colors = ['yellowgreen', 'gold', 'lightskyblue', 'lightcoral']\n",
    "    patches= plt.pie(things2Plot4, colors=colors, autopct='%1.1f%%')\n",
    "    plt.legend(patches, labels = labels, loc=\"best\")\n",
    "    plt.tight_layout()\n",
    "    plt.title('People Born in Oceania enrolled in School', fontsize = 15)\n",
    "    \n",
    "    \n",
    "    plt.show()"
   ]
  },
  {
   "cell_type": "markdown",
   "metadata": {},
   "source": [
    "First, we are importing the data from the EuropeanData class in importingData.py file."
   ]
  },
  {
   "cell_type": "code",
   "execution_count": 2,
   "metadata": {
    "collapsed": false
   },
   "outputs": [],
   "source": [
    "europeanData = importingData.EuropeanData()\n",
    "df_europe_2014 = europeanData.european_data_2014"
   ]
  },
  {
   "cell_type": "markdown",
   "metadata": {},
   "source": [
    "We can print the head of the data frame. For some reason, the GEO.id2 is NaN. However, this is not important to the data we need."
   ]
  },
  {
   "cell_type": "code",
   "execution_count": 3,
   "metadata": {
    "collapsed": false,
    "scrolled": true
   },
   "outputs": [
    {
     "data": {
      "text/html": [
       "<div>\n",
       "<table border=\"1\" class=\"dataframe\">\n",
       "  <thead>\n",
       "    <tr style=\"text-align: right;\">\n",
       "      <th></th>\n",
       "      <th>GEO.id</th>\n",
       "      <th>GEO.id2</th>\n",
       "      <th>GEO.display-label</th>\n",
       "      <th>HC01_EST_VC01</th>\n",
       "      <th>HC01_MOE_VC01</th>\n",
       "      <th>HC02_EST_VC01</th>\n",
       "      <th>HC02_MOE_VC01</th>\n",
       "      <th>HC03_EST_VC01</th>\n",
       "      <th>HC03_MOE_VC01</th>\n",
       "      <th>HC04_EST_VC01</th>\n",
       "      <th>...</th>\n",
       "      <th>HC04_EST_VC197</th>\n",
       "      <th>HC04_MOE_VC197</th>\n",
       "      <th>HC01_EST_VC198</th>\n",
       "      <th>HC01_MOE_VC198</th>\n",
       "      <th>HC02_EST_VC198</th>\n",
       "      <th>HC02_MOE_VC198</th>\n",
       "      <th>HC03_EST_VC198</th>\n",
       "      <th>HC03_MOE_VC198</th>\n",
       "      <th>HC04_EST_VC198</th>\n",
       "      <th>HC04_MOE_VC198</th>\n",
       "    </tr>\n",
       "  </thead>\n",
       "  <tbody>\n",
       "    <tr>\n",
       "      <th>0</th>\n",
       "      <td>Id</td>\n",
       "      <td>Id2</td>\n",
       "      <td>Geography</td>\n",
       "      <td>Total; Estimate; Foreign-born population</td>\n",
       "      <td>Total; Margin of Error; Foreign-born population</td>\n",
       "      <td>Foreign born; Born in Europe; Estimate; Foreig...</td>\n",
       "      <td>Foreign born; Born in Europe; Margin of Error;...</td>\n",
       "      <td>Foreign born; Born in Northern and Western Eur...</td>\n",
       "      <td>Foreign born; Born in Northern and Western Eur...</td>\n",
       "      <td>Foreign born; Born in Southern and Eastern Eur...</td>\n",
       "      <td>...</td>\n",
       "      <td>Foreign born; Born in Southern and Eastern Eur...</td>\n",
       "      <td>Foreign born; Born in Southern and Eastern Eur...</td>\n",
       "      <td>Total; Estimate; Renter-occupied housing units...</td>\n",
       "      <td>Total; Margin of Error; Renter-occupied housin...</td>\n",
       "      <td>Foreign born; Born in Europe; Estimate; Renter...</td>\n",
       "      <td>Foreign born; Born in Europe; Margin of Error;...</td>\n",
       "      <td>Foreign born; Born in Northern and Western Eur...</td>\n",
       "      <td>Foreign born; Born in Northern and Western Eur...</td>\n",
       "      <td>Foreign born; Born in Southern and Eastern Eur...</td>\n",
       "      <td>Foreign born; Born in Southern and Eastern Eur...</td>\n",
       "    </tr>\n",
       "    <tr>\n",
       "      <th>1</th>\n",
       "      <td>0100000US</td>\n",
       "      <td>NaN</td>\n",
       "      <td>United States</td>\n",
       "      <td>42391794</td>\n",
       "      <td>130122</td>\n",
       "      <td>4764822</td>\n",
       "      <td>45299</td>\n",
       "      <td>1890373</td>\n",
       "      <td>24155</td>\n",
       "      <td>2864783</td>\n",
       "      <td>...</td>\n",
       "      <td>52.5</td>\n",
       "      <td>1.0</td>\n",
       "      <td>52.7</td>\n",
       "      <td>0.3</td>\n",
       "      <td>46.5</td>\n",
       "      <td>0.9</td>\n",
       "      <td>44.5</td>\n",
       "      <td>1.5</td>\n",
       "      <td>47.5</td>\n",
       "      <td>1.0</td>\n",
       "    </tr>\n",
       "  </tbody>\n",
       "</table>\n",
       "<p>2 rows × 1163 columns</p>\n",
       "</div>"
      ],
      "text/plain": [
       "      GEO.id GEO.id2 GEO.display-label  \\\n",
       "0         Id     Id2         Geography   \n",
       "1  0100000US     NaN     United States   \n",
       "\n",
       "                              HC01_EST_VC01  \\\n",
       "0  Total; Estimate; Foreign-born population   \n",
       "1                                  42391794   \n",
       "\n",
       "                                     HC01_MOE_VC01  \\\n",
       "0  Total; Margin of Error; Foreign-born population   \n",
       "1                                           130122   \n",
       "\n",
       "                                       HC02_EST_VC01  \\\n",
       "0  Foreign born; Born in Europe; Estimate; Foreig...   \n",
       "1                                            4764822   \n",
       "\n",
       "                                       HC02_MOE_VC01  \\\n",
       "0  Foreign born; Born in Europe; Margin of Error;...   \n",
       "1                                              45299   \n",
       "\n",
       "                                       HC03_EST_VC01  \\\n",
       "0  Foreign born; Born in Northern and Western Eur...   \n",
       "1                                            1890373   \n",
       "\n",
       "                                       HC03_MOE_VC01  \\\n",
       "0  Foreign born; Born in Northern and Western Eur...   \n",
       "1                                              24155   \n",
       "\n",
       "                                       HC04_EST_VC01  \\\n",
       "0  Foreign born; Born in Southern and Eastern Eur...   \n",
       "1                                            2864783   \n",
       "\n",
       "                         ...                          \\\n",
       "0                        ...                           \n",
       "1                        ...                           \n",
       "\n",
       "                                      HC04_EST_VC197  \\\n",
       "0  Foreign born; Born in Southern and Eastern Eur...   \n",
       "1                                               52.5   \n",
       "\n",
       "                                      HC04_MOE_VC197  \\\n",
       "0  Foreign born; Born in Southern and Eastern Eur...   \n",
       "1                                                1.0   \n",
       "\n",
       "                                      HC01_EST_VC198  \\\n",
       "0  Total; Estimate; Renter-occupied housing units...   \n",
       "1                                               52.7   \n",
       "\n",
       "                                      HC01_MOE_VC198  \\\n",
       "0  Total; Margin of Error; Renter-occupied housin...   \n",
       "1                                                0.3   \n",
       "\n",
       "                                      HC02_EST_VC198  \\\n",
       "0  Foreign born; Born in Europe; Estimate; Renter...   \n",
       "1                                               46.5   \n",
       "\n",
       "                                      HC02_MOE_VC198  \\\n",
       "0  Foreign born; Born in Europe; Margin of Error;...   \n",
       "1                                                0.9   \n",
       "\n",
       "                                      HC03_EST_VC198  \\\n",
       "0  Foreign born; Born in Northern and Western Eur...   \n",
       "1                                               44.5   \n",
       "\n",
       "                                      HC03_MOE_VC198  \\\n",
       "0  Foreign born; Born in Northern and Western Eur...   \n",
       "1                                                1.5   \n",
       "\n",
       "                                      HC04_EST_VC198  \\\n",
       "0  Foreign born; Born in Southern and Eastern Eur...   \n",
       "1                                               47.5   \n",
       "\n",
       "                                      HC04_MOE_VC198  \n",
       "0  Foreign born; Born in Southern and Eastern Eur...  \n",
       "1                                                1.0  \n",
       "\n",
       "[2 rows x 1163 columns]"
      ]
     },
     "execution_count": 3,
     "metadata": {},
     "output_type": "execute_result"
    }
   ],
   "source": [
    "df_europe_2014.head()"
   ]
  },
  {
   "cell_type": "markdown",
   "metadata": {},
   "source": [
    "Plotting the schools European students are enrolled in for each region. We would like to see where the students are, grade wise, by plotting the pie bars"
   ]
  },
  {
   "cell_type": "code",
   "execution_count": 14,
   "metadata": {
    "collapsed": false
   },
   "outputs": [],
   "source": [
    "enrolled_in_school_total_europe = europeanData.enrolled_in_school_total()\n",
    "enrolled_in_school_born_in_europe = europeanData.enrolled_in_school_born_in_Europe()\n",
    "enrolled_in_school_born_in_nothern_and_western_europe = europeanData.enrolled_in_school_born_in_Nothern_and_Western_Europe()\n",
    "enrolled_in_school_born_in_southern_and_eastern_europe = europeanData.enrolled_in_school_born_in_Southern_and_Eastern_Europe()"
   ]
  },
  {
   "cell_type": "code",
   "execution_count": null,
   "metadata": {
    "collapsed": true
   },
   "outputs": [],
   "source": [
    "make_piBar_multiple(enrolled_in_school_total_europe, enrolled_in_school_born_in_europe, enrolled_in_school_born_in_nothern_and_western_europe, enrolled_in_school_born_in_southern_and_eastern_europe)"
   ]
  }
 ],
 "metadata": {
  "kernelspec": {
   "display_name": "Python 2",
   "language": "python",
   "name": "python2"
  },
  "language_info": {
   "codemirror_mode": {
    "name": "ipython",
    "version": 2
   },
   "file_extension": ".py",
   "mimetype": "text/x-python",
   "name": "python",
   "nbconvert_exporter": "python",
   "pygments_lexer": "ipython2",
   "version": "2.7.11"
  }
 },
 "nbformat": 4,
 "nbformat_minor": 0
}
